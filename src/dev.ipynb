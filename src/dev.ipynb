{
 "cells": [
  {
   "cell_type": "code",
   "execution_count": 1,
   "metadata": {},
   "outputs": [],
   "source": [
    "import pandas as pd\n",
    "import numpy as numpy\n",
    "import os"
   ]
  },
  {
   "cell_type": "code",
   "execution_count": 4,
   "metadata": {},
   "outputs": [],
   "source": [
    "def leer_ultima_linea(ruta_archivo_tmp:str):\n",
    "    with open(ruta_archivo_tmp, 'rb') as f:\n",
    "        try: # captura error en caso de que el archivo sea de una sola línea\n",
    "            f.seek(-2, os.SEEK_END)\n",
    "            while f.read(1) != b'\\n':\n",
    "                f.seek(-2, os.SEEK_CUR)\n",
    "        except OSError:\n",
    "            f.seek(0)\n",
    "        last_line = f.readline().decode()\n",
    "        return last_line"
   ]
  },
  {
   "cell_type": "code",
   "execution_count": 7,
   "metadata": {},
   "outputs": [
    {
     "data": {
      "text/plain": [
       "'Codificacion (El Jardín de Arturo Soria, Mattatoio): 0, 907922/78408744 completadas\\n'"
      ]
     },
     "execution_count": 7,
     "metadata": {},
     "output_type": "execute_result"
    }
   ],
   "source": [
    "leer_ultima_linea('../data/pipeline/traza.log')"
   ]
  },
  {
   "cell_type": "code",
   "execution_count": 19,
   "metadata": {},
   "outputs": [
    {
     "data": {
      "text/plain": [
       "[('B', 'a'), ('B', 'b'), ('C', 'a'), ('C', 'b')]"
      ]
     },
     "execution_count": 19,
     "metadata": {},
     "output_type": "execute_result"
    }
   ],
   "source": [
    "from itertools import product, islice\n",
    "\n",
    "lista1 = ['A', 'B', 'C']\n",
    "lista2 = ['a', 'b']\n",
    "\n",
    "producto_cartesiano = product(lista1, lista2)\n",
    "chunk_ini = 2\n",
    "chunk_fin = 4\n",
    "\n",
    "longitud = len(lista1)*len(lista2)\n",
    "\n",
    "[val for val in islice(producto_cartesiano, chunk_ini, longitud)]"
   ]
  },
  {
   "cell_type": "code",
   "execution_count": 20,
   "metadata": {},
   "outputs": [
    {
     "data": {
      "text/plain": [
       "[]"
      ]
     },
     "execution_count": 20,
     "metadata": {},
     "output_type": "execute_result"
    }
   ],
   "source": [
    "[val for val in producto_cartesiano]"
   ]
  },
  {
   "cell_type": "code",
   "execution_count": 21,
   "metadata": {},
   "outputs": [],
   "source": [
    "from pipeline.pipeline import Pipeline"
   ]
  },
  {
   "cell_type": "code",
   "execution_count": null,
   "metadata": {},
   "outputs": [],
   "source": [
    "Pipeline('Madrid', )"
   ]
  },
  {
   "cell_type": "code",
   "execution_count": 38,
   "metadata": {},
   "outputs": [],
   "source": [
    "def leer_ultimo_cont(ruta_archivo_tmp:str):\n",
    "    if os.path.exists(ruta_archivo_tmp):\n",
    "        with open(ruta_archivo_tmp, 'rb') as f:\n",
    "            try: # captura error en caso de que el archivo sea de una sola línea\n",
    "                f.seek(-2, os.SEEK_END)\n",
    "                while f.read(1) != b'\\n':\n",
    "                    f.seek(-2, os.SEEK_CUR)\n",
    "                ultima_linea = f.readline().decode()\n",
    "                print(ultima_linea)\n",
    "                # lprint(str(ultima_linea.split(', '))[0])\n",
    "                cont = int(str(ultima_linea).split(', ')[0])\n",
    "                return int(cont)\n",
    "            except OSError:\n",
    "                f.seek(0)\n",
    "                return 0\n",
    "            # last_line = f.readline().decode()\n",
    "            # return last_line\n",
    "    else: return 0"
   ]
  },
  {
   "cell_type": "code",
   "execution_count": 39,
   "metadata": {},
   "outputs": [
    {
     "name": "stdout",
     "output_type": "stream",
     "text": [
      "76963, Pastamore Alcalá, Your Smart Trip Rome, 0\n",
      "\n"
     ]
    },
    {
     "data": {
      "text/plain": [
       "76963"
      ]
     },
     "execution_count": 39,
     "metadata": {},
     "output_type": "execute_result"
    }
   ],
   "source": [
    "ruta = '../data/pipeline/Madrid_restaurantes__Rome_Lazio_pois/codificacion_tmp.txt'\n",
    "leer_ultimo_cont(ruta)"
   ]
  }
 ],
 "metadata": {
  "kernelspec": {
   "display_name": "venv",
   "language": "python",
   "name": "python3"
  },
  "language_info": {
   "codemirror_mode": {
    "name": "ipython",
    "version": 3
   },
   "file_extension": ".py",
   "mimetype": "text/x-python",
   "name": "python",
   "nbconvert_exporter": "python",
   "pygments_lexer": "ipython3",
   "version": "3.11.5"
  },
  "orig_nbformat": 4
 },
 "nbformat": 4,
 "nbformat_minor": 2
}
